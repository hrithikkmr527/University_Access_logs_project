{
  "cells": [
    {
      "cell_type": "markdown",
      "metadata": {
        "id": "V_T9R6mQgT4d"
      },
      "source": [
        "## Data Loading\n",
        "\n",
        "We will first load the dataset and add column names to the dataset"
      ]
    },
    {
      "cell_type": "code",
      "execution_count": 1,
      "metadata": {
        "id": "zRYWAAUm3v41"
      },
      "outputs": [],
      "source": [
        "import pandas as pd\n",
        "import numpy as np\n",
        "from dateutil import parser, tz\n",
        "from datetime import datetime"
      ]
    },
    {
      "cell_type": "code",
      "execution_count": 3,
      "metadata": {
        "id": "pSVq5Bx43v43"
      },
      "outputs": [],
      "source": [
        "!unzip -qq \"/content/UserLog.csv.zip\""
      ]
    },
    {
      "cell_type": "code",
      "execution_count": 4,
      "metadata": {
        "id": "vK6IV7hC3v44"
      },
      "outputs": [],
      "source": [
        "## import dataset\n",
        "pd.options.mode.chained_assignment = None  # default='warn'\n",
        "data_df = pd.read_csv(\"./UserLog.csv\", parse_dates=True)"
      ]
    },
    {
      "cell_type": "code",
      "execution_count": 5,
      "metadata": {
        "colab": {
          "base_uri": "https://localhost:8080/",
          "height": 206
        },
        "id": "799yrBxa3v44",
        "outputId": "d20115b8-ac97-40d0-da1a-7cf09cb7fe22"
      },
      "outputs": [
        {
          "data": {
            "application/vnd.google.colaboratory.intrinsic+json": {
              "type": "dataframe",
              "variable_name": "data_df"
            },
            "text/html": [
              "\n",
              "  <div id=\"df-ed08c33e-5629-4911-94f0-666706618788\" class=\"colab-df-container\">\n",
              "    <div>\n",
              "<style scoped>\n",
              "    .dataframe tbody tr th:only-of-type {\n",
              "        vertical-align: middle;\n",
              "    }\n",
              "\n",
              "    .dataframe tbody tr th {\n",
              "        vertical-align: top;\n",
              "    }\n",
              "\n",
              "    .dataframe thead th {\n",
              "        text-align: right;\n",
              "    }\n",
              "</style>\n",
              "<table border=\"1\" class=\"dataframe\">\n",
              "  <thead>\n",
              "    <tr style=\"text-align: right;\">\n",
              "      <th></th>\n",
              "      <th>Time_stamp</th>\n",
              "      <th>Event</th>\n",
              "      <th>Cluster_name</th>\n",
              "      <th>duration</th>\n",
              "      <th>num_students</th>\n",
              "    </tr>\n",
              "  </thead>\n",
              "  <tbody>\n",
              "    <tr>\n",
              "      <th>0</th>\n",
              "      <td>Fri Jan 01 00:00:00 GMT 2010</td>\n",
              "      <td>LOGIN</td>\n",
              "      <td>LAKE</td>\n",
              "      <td>10058927</td>\n",
              "      <td>2</td>\n",
              "    </tr>\n",
              "    <tr>\n",
              "      <th>1</th>\n",
              "      <td>Fri Jan 01 00:00:00 GMT 2010</td>\n",
              "      <td>LOGIN</td>\n",
              "      <td>SIDE</td>\n",
              "      <td>6868990</td>\n",
              "      <td>3</td>\n",
              "    </tr>\n",
              "    <tr>\n",
              "      <th>2</th>\n",
              "      <td>Fri Jan 01 00:00:00 GMT 2010</td>\n",
              "      <td>LOGIN</td>\n",
              "      <td>LAKE</td>\n",
              "      <td>2997017</td>\n",
              "      <td>4</td>\n",
              "    </tr>\n",
              "    <tr>\n",
              "      <th>3</th>\n",
              "      <td>Fri Jan 01 00:00:00 GMT 2010</td>\n",
              "      <td>LOGIN</td>\n",
              "      <td>LAKE</td>\n",
              "      <td>8919800</td>\n",
              "      <td>5</td>\n",
              "    </tr>\n",
              "    <tr>\n",
              "      <th>4</th>\n",
              "      <td>Fri Jan 01 00:00:00 GMT 2010</td>\n",
              "      <td>LOGIN</td>\n",
              "      <td>LAKE</td>\n",
              "      <td>4426803</td>\n",
              "      <td>6</td>\n",
              "    </tr>\n",
              "  </tbody>\n",
              "</table>\n",
              "</div>\n",
              "    <div class=\"colab-df-buttons\">\n",
              "\n",
              "  <div class=\"colab-df-container\">\n",
              "    <button class=\"colab-df-convert\" onclick=\"convertToInteractive('df-ed08c33e-5629-4911-94f0-666706618788')\"\n",
              "            title=\"Convert this dataframe to an interactive table.\"\n",
              "            style=\"display:none;\">\n",
              "\n",
              "  <svg xmlns=\"http://www.w3.org/2000/svg\" height=\"24px\" viewBox=\"0 -960 960 960\">\n",
              "    <path d=\"M120-120v-720h720v720H120Zm60-500h600v-160H180v160Zm220 220h160v-160H400v160Zm0 220h160v-160H400v160ZM180-400h160v-160H180v160Zm440 0h160v-160H620v160ZM180-180h160v-160H180v160Zm440 0h160v-160H620v160Z\"/>\n",
              "  </svg>\n",
              "    </button>\n",
              "\n",
              "  <style>\n",
              "    .colab-df-container {\n",
              "      display:flex;\n",
              "      gap: 12px;\n",
              "    }\n",
              "\n",
              "    .colab-df-convert {\n",
              "      background-color: #E8F0FE;\n",
              "      border: none;\n",
              "      border-radius: 50%;\n",
              "      cursor: pointer;\n",
              "      display: none;\n",
              "      fill: #1967D2;\n",
              "      height: 32px;\n",
              "      padding: 0 0 0 0;\n",
              "      width: 32px;\n",
              "    }\n",
              "\n",
              "    .colab-df-convert:hover {\n",
              "      background-color: #E2EBFA;\n",
              "      box-shadow: 0px 1px 2px rgba(60, 64, 67, 0.3), 0px 1px 3px 1px rgba(60, 64, 67, 0.15);\n",
              "      fill: #174EA6;\n",
              "    }\n",
              "\n",
              "    .colab-df-buttons div {\n",
              "      margin-bottom: 4px;\n",
              "    }\n",
              "\n",
              "    [theme=dark] .colab-df-convert {\n",
              "      background-color: #3B4455;\n",
              "      fill: #D2E3FC;\n",
              "    }\n",
              "\n",
              "    [theme=dark] .colab-df-convert:hover {\n",
              "      background-color: #434B5C;\n",
              "      box-shadow: 0px 1px 3px 1px rgba(0, 0, 0, 0.15);\n",
              "      filter: drop-shadow(0px 1px 2px rgba(0, 0, 0, 0.3));\n",
              "      fill: #FFFFFF;\n",
              "    }\n",
              "  </style>\n",
              "\n",
              "    <script>\n",
              "      const buttonEl =\n",
              "        document.querySelector('#df-ed08c33e-5629-4911-94f0-666706618788 button.colab-df-convert');\n",
              "      buttonEl.style.display =\n",
              "        google.colab.kernel.accessAllowed ? 'block' : 'none';\n",
              "\n",
              "      async function convertToInteractive(key) {\n",
              "        const element = document.querySelector('#df-ed08c33e-5629-4911-94f0-666706618788');\n",
              "        const dataTable =\n",
              "          await google.colab.kernel.invokeFunction('convertToInteractive',\n",
              "                                                    [key], {});\n",
              "        if (!dataTable) return;\n",
              "\n",
              "        const docLinkHtml = 'Like what you see? Visit the ' +\n",
              "          '<a target=\"_blank\" href=https://colab.research.google.com/notebooks/data_table.ipynb>data table notebook</a>'\n",
              "          + ' to learn more about interactive tables.';\n",
              "        element.innerHTML = '';\n",
              "        dataTable['output_type'] = 'display_data';\n",
              "        await google.colab.output.renderOutput(dataTable, element);\n",
              "        const docLink = document.createElement('div');\n",
              "        docLink.innerHTML = docLinkHtml;\n",
              "        element.appendChild(docLink);\n",
              "      }\n",
              "    </script>\n",
              "  </div>\n",
              "\n",
              "\n",
              "<div id=\"df-96943d03-e2b7-4c1b-8995-c700e86f5696\">\n",
              "  <button class=\"colab-df-quickchart\" onclick=\"quickchart('df-96943d03-e2b7-4c1b-8995-c700e86f5696')\"\n",
              "            title=\"Suggest charts\"\n",
              "            style=\"display:none;\">\n",
              "\n",
              "<svg xmlns=\"http://www.w3.org/2000/svg\" height=\"24px\"viewBox=\"0 0 24 24\"\n",
              "     width=\"24px\">\n",
              "    <g>\n",
              "        <path d=\"M19 3H5c-1.1 0-2 .9-2 2v14c0 1.1.9 2 2 2h14c1.1 0 2-.9 2-2V5c0-1.1-.9-2-2-2zM9 17H7v-7h2v7zm4 0h-2V7h2v10zm4 0h-2v-4h2v4z\"/>\n",
              "    </g>\n",
              "</svg>\n",
              "  </button>\n",
              "\n",
              "<style>\n",
              "  .colab-df-quickchart {\n",
              "      --bg-color: #E8F0FE;\n",
              "      --fill-color: #1967D2;\n",
              "      --hover-bg-color: #E2EBFA;\n",
              "      --hover-fill-color: #174EA6;\n",
              "      --disabled-fill-color: #AAA;\n",
              "      --disabled-bg-color: #DDD;\n",
              "  }\n",
              "\n",
              "  [theme=dark] .colab-df-quickchart {\n",
              "      --bg-color: #3B4455;\n",
              "      --fill-color: #D2E3FC;\n",
              "      --hover-bg-color: #434B5C;\n",
              "      --hover-fill-color: #FFFFFF;\n",
              "      --disabled-bg-color: #3B4455;\n",
              "      --disabled-fill-color: #666;\n",
              "  }\n",
              "\n",
              "  .colab-df-quickchart {\n",
              "    background-color: var(--bg-color);\n",
              "    border: none;\n",
              "    border-radius: 50%;\n",
              "    cursor: pointer;\n",
              "    display: none;\n",
              "    fill: var(--fill-color);\n",
              "    height: 32px;\n",
              "    padding: 0;\n",
              "    width: 32px;\n",
              "  }\n",
              "\n",
              "  .colab-df-quickchart:hover {\n",
              "    background-color: var(--hover-bg-color);\n",
              "    box-shadow: 0 1px 2px rgba(60, 64, 67, 0.3), 0 1px 3px 1px rgba(60, 64, 67, 0.15);\n",
              "    fill: var(--button-hover-fill-color);\n",
              "  }\n",
              "\n",
              "  .colab-df-quickchart-complete:disabled,\n",
              "  .colab-df-quickchart-complete:disabled:hover {\n",
              "    background-color: var(--disabled-bg-color);\n",
              "    fill: var(--disabled-fill-color);\n",
              "    box-shadow: none;\n",
              "  }\n",
              "\n",
              "  .colab-df-spinner {\n",
              "    border: 2px solid var(--fill-color);\n",
              "    border-color: transparent;\n",
              "    border-bottom-color: var(--fill-color);\n",
              "    animation:\n",
              "      spin 1s steps(1) infinite;\n",
              "  }\n",
              "\n",
              "  @keyframes spin {\n",
              "    0% {\n",
              "      border-color: transparent;\n",
              "      border-bottom-color: var(--fill-color);\n",
              "      border-left-color: var(--fill-color);\n",
              "    }\n",
              "    20% {\n",
              "      border-color: transparent;\n",
              "      border-left-color: var(--fill-color);\n",
              "      border-top-color: var(--fill-color);\n",
              "    }\n",
              "    30% {\n",
              "      border-color: transparent;\n",
              "      border-left-color: var(--fill-color);\n",
              "      border-top-color: var(--fill-color);\n",
              "      border-right-color: var(--fill-color);\n",
              "    }\n",
              "    40% {\n",
              "      border-color: transparent;\n",
              "      border-right-color: var(--fill-color);\n",
              "      border-top-color: var(--fill-color);\n",
              "    }\n",
              "    60% {\n",
              "      border-color: transparent;\n",
              "      border-right-color: var(--fill-color);\n",
              "    }\n",
              "    80% {\n",
              "      border-color: transparent;\n",
              "      border-right-color: var(--fill-color);\n",
              "      border-bottom-color: var(--fill-color);\n",
              "    }\n",
              "    90% {\n",
              "      border-color: transparent;\n",
              "      border-bottom-color: var(--fill-color);\n",
              "    }\n",
              "  }\n",
              "</style>\n",
              "\n",
              "  <script>\n",
              "    async function quickchart(key) {\n",
              "      const quickchartButtonEl =\n",
              "        document.querySelector('#' + key + ' button');\n",
              "      quickchartButtonEl.disabled = true;  // To prevent multiple clicks.\n",
              "      quickchartButtonEl.classList.add('colab-df-spinner');\n",
              "      try {\n",
              "        const charts = await google.colab.kernel.invokeFunction(\n",
              "            'suggestCharts', [key], {});\n",
              "      } catch (error) {\n",
              "        console.error('Error during call to suggestCharts:', error);\n",
              "      }\n",
              "      quickchartButtonEl.classList.remove('colab-df-spinner');\n",
              "      quickchartButtonEl.classList.add('colab-df-quickchart-complete');\n",
              "    }\n",
              "    (() => {\n",
              "      let quickchartButtonEl =\n",
              "        document.querySelector('#df-96943d03-e2b7-4c1b-8995-c700e86f5696 button');\n",
              "      quickchartButtonEl.style.display =\n",
              "        google.colab.kernel.accessAllowed ? 'block' : 'none';\n",
              "    })();\n",
              "  </script>\n",
              "</div>\n",
              "    </div>\n",
              "  </div>\n"
            ],
            "text/plain": [
              "                     Time_stamp   Event Cluster_name  duration  num_students\n",
              "0  Fri Jan 01 00:00:00 GMT 2010   LOGIN         LAKE  10058927             2\n",
              "1  Fri Jan 01 00:00:00 GMT 2010   LOGIN         SIDE   6868990             3\n",
              "2  Fri Jan 01 00:00:00 GMT 2010   LOGIN         LAKE   2997017             4\n",
              "3  Fri Jan 01 00:00:00 GMT 2010   LOGIN         LAKE   8919800             5\n",
              "4  Fri Jan 01 00:00:00 GMT 2010   LOGIN         LAKE   4426803             6"
            ]
          },
          "execution_count": 5,
          "metadata": {},
          "output_type": "execute_result"
        }
      ],
      "source": [
        "data_df.columns = [\"Time_stamp\", \"Event\", \"Cluster_name\", \"duration\", \"num_students\"]\n",
        "data_df.head()"
      ]
    },
    {
      "cell_type": "markdown",
      "metadata": {
        "id": "BxH9xkjq3v45"
      },
      "source": [
        "## Data Preprocessing"
      ]
    },
    {
      "cell_type": "markdown",
      "metadata": {
        "id": "XbBEnthggjOe"
      },
      "source": [
        "We will convert the time stamp to a numerical value to make it easier for us to predict the next time stamp."
      ]
    },
    {
      "cell_type": "code",
      "execution_count": 6,
      "metadata": {
        "colab": {
          "base_uri": "https://localhost:8080/",
          "height": 238
        },
        "id": "J1nu4WEd3v46",
        "outputId": "965adad4-3167-4547-94b6-2e5f7ff690d5"
      },
      "outputs": [
        {
          "data": {
            "application/vnd.google.colaboratory.intrinsic+json": {
              "type": "dataframe",
              "variable_name": "data_df_time"
            },
            "text/html": [
              "\n",
              "  <div id=\"df-b3b7529e-7d75-47dd-b5ee-661e7c355c41\" class=\"colab-df-container\">\n",
              "    <div>\n",
              "<style scoped>\n",
              "    .dataframe tbody tr th:only-of-type {\n",
              "        vertical-align: middle;\n",
              "    }\n",
              "\n",
              "    .dataframe tbody tr th {\n",
              "        vertical-align: top;\n",
              "    }\n",
              "\n",
              "    .dataframe thead th {\n",
              "        text-align: right;\n",
              "    }\n",
              "</style>\n",
              "<table border=\"1\" class=\"dataframe\">\n",
              "  <thead>\n",
              "    <tr style=\"text-align: right;\">\n",
              "      <th></th>\n",
              "      <th>Event</th>\n",
              "      <th>Cluster_name</th>\n",
              "      <th>duration</th>\n",
              "      <th>num_students</th>\n",
              "      <th>Day</th>\n",
              "      <th>Month</th>\n",
              "      <th>Date</th>\n",
              "      <th>Hour</th>\n",
              "      <th>Minute</th>\n",
              "      <th>Second</th>\n",
              "      <th>Time_stamp_s</th>\n",
              "    </tr>\n",
              "    <tr>\n",
              "      <th>Time_stamp</th>\n",
              "      <th></th>\n",
              "      <th></th>\n",
              "      <th></th>\n",
              "      <th></th>\n",
              "      <th></th>\n",
              "      <th></th>\n",
              "      <th></th>\n",
              "      <th></th>\n",
              "      <th></th>\n",
              "      <th></th>\n",
              "      <th></th>\n",
              "    </tr>\n",
              "  </thead>\n",
              "  <tbody>\n",
              "    <tr>\n",
              "      <th>2010-01-01 00:00:00+00:00</th>\n",
              "      <td>LOGIN</td>\n",
              "      <td>LAKE</td>\n",
              "      <td>10058927</td>\n",
              "      <td>2</td>\n",
              "      <td>Fri</td>\n",
              "      <td>Jan</td>\n",
              "      <td>1</td>\n",
              "      <td>0</td>\n",
              "      <td>0</td>\n",
              "      <td>0</td>\n",
              "      <td>1.262304e+09</td>\n",
              "    </tr>\n",
              "    <tr>\n",
              "      <th>2010-01-01 00:00:00+00:00</th>\n",
              "      <td>LOGIN</td>\n",
              "      <td>SIDE</td>\n",
              "      <td>6868990</td>\n",
              "      <td>3</td>\n",
              "      <td>Fri</td>\n",
              "      <td>Jan</td>\n",
              "      <td>1</td>\n",
              "      <td>0</td>\n",
              "      <td>0</td>\n",
              "      <td>0</td>\n",
              "      <td>1.262304e+09</td>\n",
              "    </tr>\n",
              "    <tr>\n",
              "      <th>2010-01-01 00:00:00+00:00</th>\n",
              "      <td>LOGIN</td>\n",
              "      <td>LAKE</td>\n",
              "      <td>2997017</td>\n",
              "      <td>4</td>\n",
              "      <td>Fri</td>\n",
              "      <td>Jan</td>\n",
              "      <td>1</td>\n",
              "      <td>0</td>\n",
              "      <td>0</td>\n",
              "      <td>0</td>\n",
              "      <td>1.262304e+09</td>\n",
              "    </tr>\n",
              "    <tr>\n",
              "      <th>2010-01-01 00:00:00+00:00</th>\n",
              "      <td>LOGIN</td>\n",
              "      <td>LAKE</td>\n",
              "      <td>8919800</td>\n",
              "      <td>5</td>\n",
              "      <td>Fri</td>\n",
              "      <td>Jan</td>\n",
              "      <td>1</td>\n",
              "      <td>0</td>\n",
              "      <td>0</td>\n",
              "      <td>0</td>\n",
              "      <td>1.262304e+09</td>\n",
              "    </tr>\n",
              "    <tr>\n",
              "      <th>2010-01-01 00:00:00+00:00</th>\n",
              "      <td>LOGIN</td>\n",
              "      <td>LAKE</td>\n",
              "      <td>4426803</td>\n",
              "      <td>6</td>\n",
              "      <td>Fri</td>\n",
              "      <td>Jan</td>\n",
              "      <td>1</td>\n",
              "      <td>0</td>\n",
              "      <td>0</td>\n",
              "      <td>0</td>\n",
              "      <td>1.262304e+09</td>\n",
              "    </tr>\n",
              "  </tbody>\n",
              "</table>\n",
              "</div>\n",
              "    <div class=\"colab-df-buttons\">\n",
              "\n",
              "  <div class=\"colab-df-container\">\n",
              "    <button class=\"colab-df-convert\" onclick=\"convertToInteractive('df-b3b7529e-7d75-47dd-b5ee-661e7c355c41')\"\n",
              "            title=\"Convert this dataframe to an interactive table.\"\n",
              "            style=\"display:none;\">\n",
              "\n",
              "  <svg xmlns=\"http://www.w3.org/2000/svg\" height=\"24px\" viewBox=\"0 -960 960 960\">\n",
              "    <path d=\"M120-120v-720h720v720H120Zm60-500h600v-160H180v160Zm220 220h160v-160H400v160Zm0 220h160v-160H400v160ZM180-400h160v-160H180v160Zm440 0h160v-160H620v160ZM180-180h160v-160H180v160Zm440 0h160v-160H620v160Z\"/>\n",
              "  </svg>\n",
              "    </button>\n",
              "\n",
              "  <style>\n",
              "    .colab-df-container {\n",
              "      display:flex;\n",
              "      gap: 12px;\n",
              "    }\n",
              "\n",
              "    .colab-df-convert {\n",
              "      background-color: #E8F0FE;\n",
              "      border: none;\n",
              "      border-radius: 50%;\n",
              "      cursor: pointer;\n",
              "      display: none;\n",
              "      fill: #1967D2;\n",
              "      height: 32px;\n",
              "      padding: 0 0 0 0;\n",
              "      width: 32px;\n",
              "    }\n",
              "\n",
              "    .colab-df-convert:hover {\n",
              "      background-color: #E2EBFA;\n",
              "      box-shadow: 0px 1px 2px rgba(60, 64, 67, 0.3), 0px 1px 3px 1px rgba(60, 64, 67, 0.15);\n",
              "      fill: #174EA6;\n",
              "    }\n",
              "\n",
              "    .colab-df-buttons div {\n",
              "      margin-bottom: 4px;\n",
              "    }\n",
              "\n",
              "    [theme=dark] .colab-df-convert {\n",
              "      background-color: #3B4455;\n",
              "      fill: #D2E3FC;\n",
              "    }\n",
              "\n",
              "    [theme=dark] .colab-df-convert:hover {\n",
              "      background-color: #434B5C;\n",
              "      box-shadow: 0px 1px 3px 1px rgba(0, 0, 0, 0.15);\n",
              "      filter: drop-shadow(0px 1px 2px rgba(0, 0, 0, 0.3));\n",
              "      fill: #FFFFFF;\n",
              "    }\n",
              "  </style>\n",
              "\n",
              "    <script>\n",
              "      const buttonEl =\n",
              "        document.querySelector('#df-b3b7529e-7d75-47dd-b5ee-661e7c355c41 button.colab-df-convert');\n",
              "      buttonEl.style.display =\n",
              "        google.colab.kernel.accessAllowed ? 'block' : 'none';\n",
              "\n",
              "      async function convertToInteractive(key) {\n",
              "        const element = document.querySelector('#df-b3b7529e-7d75-47dd-b5ee-661e7c355c41');\n",
              "        const dataTable =\n",
              "          await google.colab.kernel.invokeFunction('convertToInteractive',\n",
              "                                                    [key], {});\n",
              "        if (!dataTable) return;\n",
              "\n",
              "        const docLinkHtml = 'Like what you see? Visit the ' +\n",
              "          '<a target=\"_blank\" href=https://colab.research.google.com/notebooks/data_table.ipynb>data table notebook</a>'\n",
              "          + ' to learn more about interactive tables.';\n",
              "        element.innerHTML = '';\n",
              "        dataTable['output_type'] = 'display_data';\n",
              "        await google.colab.output.renderOutput(dataTable, element);\n",
              "        const docLink = document.createElement('div');\n",
              "        docLink.innerHTML = docLinkHtml;\n",
              "        element.appendChild(docLink);\n",
              "      }\n",
              "    </script>\n",
              "  </div>\n",
              "\n",
              "\n",
              "<div id=\"df-a0e66929-226c-4b02-8a47-b405843fed85\">\n",
              "  <button class=\"colab-df-quickchart\" onclick=\"quickchart('df-a0e66929-226c-4b02-8a47-b405843fed85')\"\n",
              "            title=\"Suggest charts\"\n",
              "            style=\"display:none;\">\n",
              "\n",
              "<svg xmlns=\"http://www.w3.org/2000/svg\" height=\"24px\"viewBox=\"0 0 24 24\"\n",
              "     width=\"24px\">\n",
              "    <g>\n",
              "        <path d=\"M19 3H5c-1.1 0-2 .9-2 2v14c0 1.1.9 2 2 2h14c1.1 0 2-.9 2-2V5c0-1.1-.9-2-2-2zM9 17H7v-7h2v7zm4 0h-2V7h2v10zm4 0h-2v-4h2v4z\"/>\n",
              "    </g>\n",
              "</svg>\n",
              "  </button>\n",
              "\n",
              "<style>\n",
              "  .colab-df-quickchart {\n",
              "      --bg-color: #E8F0FE;\n",
              "      --fill-color: #1967D2;\n",
              "      --hover-bg-color: #E2EBFA;\n",
              "      --hover-fill-color: #174EA6;\n",
              "      --disabled-fill-color: #AAA;\n",
              "      --disabled-bg-color: #DDD;\n",
              "  }\n",
              "\n",
              "  [theme=dark] .colab-df-quickchart {\n",
              "      --bg-color: #3B4455;\n",
              "      --fill-color: #D2E3FC;\n",
              "      --hover-bg-color: #434B5C;\n",
              "      --hover-fill-color: #FFFFFF;\n",
              "      --disabled-bg-color: #3B4455;\n",
              "      --disabled-fill-color: #666;\n",
              "  }\n",
              "\n",
              "  .colab-df-quickchart {\n",
              "    background-color: var(--bg-color);\n",
              "    border: none;\n",
              "    border-radius: 50%;\n",
              "    cursor: pointer;\n",
              "    display: none;\n",
              "    fill: var(--fill-color);\n",
              "    height: 32px;\n",
              "    padding: 0;\n",
              "    width: 32px;\n",
              "  }\n",
              "\n",
              "  .colab-df-quickchart:hover {\n",
              "    background-color: var(--hover-bg-color);\n",
              "    box-shadow: 0 1px 2px rgba(60, 64, 67, 0.3), 0 1px 3px 1px rgba(60, 64, 67, 0.15);\n",
              "    fill: var(--button-hover-fill-color);\n",
              "  }\n",
              "\n",
              "  .colab-df-quickchart-complete:disabled,\n",
              "  .colab-df-quickchart-complete:disabled:hover {\n",
              "    background-color: var(--disabled-bg-color);\n",
              "    fill: var(--disabled-fill-color);\n",
              "    box-shadow: none;\n",
              "  }\n",
              "\n",
              "  .colab-df-spinner {\n",
              "    border: 2px solid var(--fill-color);\n",
              "    border-color: transparent;\n",
              "    border-bottom-color: var(--fill-color);\n",
              "    animation:\n",
              "      spin 1s steps(1) infinite;\n",
              "  }\n",
              "\n",
              "  @keyframes spin {\n",
              "    0% {\n",
              "      border-color: transparent;\n",
              "      border-bottom-color: var(--fill-color);\n",
              "      border-left-color: var(--fill-color);\n",
              "    }\n",
              "    20% {\n",
              "      border-color: transparent;\n",
              "      border-left-color: var(--fill-color);\n",
              "      border-top-color: var(--fill-color);\n",
              "    }\n",
              "    30% {\n",
              "      border-color: transparent;\n",
              "      border-left-color: var(--fill-color);\n",
              "      border-top-color: var(--fill-color);\n",
              "      border-right-color: var(--fill-color);\n",
              "    }\n",
              "    40% {\n",
              "      border-color: transparent;\n",
              "      border-right-color: var(--fill-color);\n",
              "      border-top-color: var(--fill-color);\n",
              "    }\n",
              "    60% {\n",
              "      border-color: transparent;\n",
              "      border-right-color: var(--fill-color);\n",
              "    }\n",
              "    80% {\n",
              "      border-color: transparent;\n",
              "      border-right-color: var(--fill-color);\n",
              "      border-bottom-color: var(--fill-color);\n",
              "    }\n",
              "    90% {\n",
              "      border-color: transparent;\n",
              "      border-bottom-color: var(--fill-color);\n",
              "    }\n",
              "  }\n",
              "</style>\n",
              "\n",
              "  <script>\n",
              "    async function quickchart(key) {\n",
              "      const quickchartButtonEl =\n",
              "        document.querySelector('#' + key + ' button');\n",
              "      quickchartButtonEl.disabled = true;  // To prevent multiple clicks.\n",
              "      quickchartButtonEl.classList.add('colab-df-spinner');\n",
              "      try {\n",
              "        const charts = await google.colab.kernel.invokeFunction(\n",
              "            'suggestCharts', [key], {});\n",
              "      } catch (error) {\n",
              "        console.error('Error during call to suggestCharts:', error);\n",
              "      }\n",
              "      quickchartButtonEl.classList.remove('colab-df-spinner');\n",
              "      quickchartButtonEl.classList.add('colab-df-quickchart-complete');\n",
              "    }\n",
              "    (() => {\n",
              "      let quickchartButtonEl =\n",
              "        document.querySelector('#df-a0e66929-226c-4b02-8a47-b405843fed85 button');\n",
              "      quickchartButtonEl.style.display =\n",
              "        google.colab.kernel.accessAllowed ? 'block' : 'none';\n",
              "    })();\n",
              "  </script>\n",
              "</div>\n",
              "    </div>\n",
              "  </div>\n"
            ],
            "text/plain": [
              "                            Event Cluster_name  duration  num_students  Day  \\\n",
              "Time_stamp                                                                    \n",
              "2010-01-01 00:00:00+00:00   LOGIN         LAKE  10058927             2  Fri   \n",
              "2010-01-01 00:00:00+00:00   LOGIN         SIDE   6868990             3  Fri   \n",
              "2010-01-01 00:00:00+00:00   LOGIN         LAKE   2997017             4  Fri   \n",
              "2010-01-01 00:00:00+00:00   LOGIN         LAKE   8919800             5  Fri   \n",
              "2010-01-01 00:00:00+00:00   LOGIN         LAKE   4426803             6  Fri   \n",
              "\n",
              "                          Month  Date  Hour  Minute  Second  Time_stamp_s  \n",
              "Time_stamp                                                                 \n",
              "2010-01-01 00:00:00+00:00   Jan     1     0       0       0  1.262304e+09  \n",
              "2010-01-01 00:00:00+00:00   Jan     1     0       0       0  1.262304e+09  \n",
              "2010-01-01 00:00:00+00:00   Jan     1     0       0       0  1.262304e+09  \n",
              "2010-01-01 00:00:00+00:00   Jan     1     0       0       0  1.262304e+09  \n",
              "2010-01-01 00:00:00+00:00   Jan     1     0       0       0  1.262304e+09  "
            ]
          },
          "execution_count": 6,
          "metadata": {},
          "output_type": "execute_result"
        }
      ],
      "source": [
        "import dateutil.parser\n",
        "import dateutil.tz\n",
        "\n",
        "\n",
        "## Splitting the time stamp to create additional features\n",
        "\n",
        "data_df[\"Day\"] = data_df[\"Time_stamp\"].apply(lambda x: x.split(' ')[0])\n",
        "data_df[\"Month\"] = data_df[\"Time_stamp\"].apply(lambda x: x.split(' ')[1])\n",
        "data_df[\"Date\"] = data_df[\"Time_stamp\"].apply(lambda x: np.int64(x.split(' ')[2]))\n",
        "data_df[\"Hour\"] = data_df[\"Time_stamp\"].apply(lambda x: np.int64(x.split(' ')[3].split(':')[0]))\n",
        "data_df[\"Minute\"] = data_df[\"Time_stamp\"].apply(lambda x: np.int64(x.split(' ')[3].split(':')[1]))\n",
        "data_df[\"Second\"] = data_df[\"Time_stamp\"].apply(lambda x: np.int64(x.split(' ')[3].split(':')[2]))\n",
        "\n",
        "\n",
        "## Converting time stamp to consistent format\n",
        "BST = dateutil.tz.gettz('Europe/London')\n",
        "# dateutil.parser.parse('25-Oct-20 12:00:00 AM BST', tzinfos={'BST': BST})\n",
        "data_df['Time_stamp'] = data_df['Time_stamp'].apply(lambda x: dateutil.parser.parse(x, tzinfos={'BST': BST}))\n",
        "\n",
        "\n",
        "## creating target variable by converting time stamp to a number\n",
        "data_df['Time_stamp_s'] = data_df['Time_stamp'].apply(lambda x: pd.Timestamp.timestamp(pd.Timestamp(x)))\n",
        "data_df_time = data_df.set_index('Time_stamp')\n",
        "data_df_time.head()\n"
      ]
    },
    {
      "cell_type": "markdown",
      "metadata": {
        "id": "QDCz-0IMgvU6"
      },
      "source": [
        "Splitting the data into train, test and val. Last 100 rows will act as the test set and the remaining will be used for training and validation purpose."
      ]
    },
    {
      "cell_type": "code",
      "execution_count": 7,
      "metadata": {
        "id": "lCB3IAhu3v46"
      },
      "outputs": [],
      "source": [
        "## Splitting the dataset into train, val and test\n",
        "\n",
        "test_df = data_df_time.tail(150)\n",
        "\n",
        "data_df_time.drop(test_df.index, inplace = True)\n",
        "n = len(data_df_time)\n",
        "train_df = data_df_time[0:int(n*0.7)]\n",
        "val_df = data_df_time[int(n*0.7):]\n"
      ]
    },
    {
      "cell_type": "code",
      "execution_count": 8,
      "metadata": {
        "colab": {
          "base_uri": "https://localhost:8080/"
        },
        "id": "gYvDqtTs_VaV",
        "outputId": "27798c3a-3402-4281-ba05-169a37a83737"
      },
      "outputs": [
        {
          "data": {
            "text/plain": [
              "((1721640, 11), (737847, 11), (150, 11))"
            ]
          },
          "execution_count": 8,
          "metadata": {},
          "output_type": "execute_result"
        }
      ],
      "source": [
        "train_df.shape, val_df.shape, test_df.shape"
      ]
    },
    {
      "cell_type": "markdown",
      "metadata": {
        "id": "1Wiu29lQg_bk"
      },
      "source": [
        "Now that our dataset is split into train, test and validation sets, we can perform Scaling and Encoding to numerical and categorical variables in the dataset."
      ]
    },
    {
      "cell_type": "code",
      "execution_count": 9,
      "metadata": {
        "id": "Gwpg4rvK3v47"
      },
      "outputs": [],
      "source": [
        "from sklearn.preprocessing import MinMaxScaler, LabelEncoder\n",
        "\n",
        "scaler_duration = MinMaxScaler()\n",
        "scaler_num_students = MinMaxScaler()\n",
        "scaler_time_stamp = MinMaxScaler()\n",
        "scaler_hour = MinMaxScaler()\n",
        "scaler_minute = MinMaxScaler()\n",
        "scaler_sec = MinMaxScaler()\n",
        "\n",
        "label_enc_event = LabelEncoder()\n",
        "label_enc_cluster = LabelEncoder()\n",
        "label_enc_day = LabelEncoder()\n",
        "\n",
        "def scale_encode_data(data_mod, train_data = True):\n",
        "\n",
        "    data = data_mod.copy()\n",
        "    if train_data:\n",
        "        data['duration'] = scaler_duration.fit_transform(data[['duration']])\n",
        "        data['num_students'] = scaler_num_students.fit_transform(data[['num_students']])\n",
        "        data['Time_stamp_s'] = scaler_time_stamp.fit_transform(data[['Time_stamp_s']])\n",
        "        data['Hour'] = scaler_hour.fit_transform(data[['Hour']])\n",
        "        data['Minute'] = scaler_minute.fit_transform(data[['Minute']])\n",
        "        data['Second'] = scaler_sec.fit_transform(data[['Second']])\n",
        "\n",
        "        data['Event'] = label_enc_event.fit_transform(data['Event'])\n",
        "        data['Cluster_name'] = label_enc_cluster.fit_transform(data['Cluster_name'])\n",
        "        data['Day'] = label_enc_day.fit_transform(data['Day'])\n",
        "\n",
        "        return data\n",
        "\n",
        "    data['duration'] = scaler_duration.transform(data[['duration']])\n",
        "    data['num_students'] = scaler_num_students.transform(data[['num_students']])\n",
        "    data['Time_stamp_s'] = scaler_time_stamp.transform(data[['Time_stamp_s']])\n",
        "    data['Hour'] = scaler_hour.transform(data[['Hour']])\n",
        "    data['Minute'] = scaler_minute.transform(data[['Minute']])\n",
        "    data['Second'] = scaler_sec.transform(data[['Second']])\n",
        "\n",
        "    data['Event'] = label_enc_event.transform(data['Event'])\n",
        "    data['Cluster_name'] = label_enc_cluster.transform(data['Cluster_name'])\n",
        "    data['Day'] = label_enc_day.transform(data['Day'])\n",
        "\n",
        "    return data\n",
        "\n",
        "\n",
        "train_df = scale_encode_data(train_df, train_data=True)\n",
        "val_df = scale_encode_data(val_df, train_data=False)\n",
        "test_df = scale_encode_data(test_df, train_data=False)\n",
        "\n",
        "\n"
      ]
    },
    {
      "cell_type": "markdown",
      "metadata": {
        "id": "lfGjtwqS3v47"
      },
      "source": [
        "## Task 1: Predicting Time stamps for next 100 Events"
      ]
    },
    {
      "cell_type": "markdown",
      "metadata": {
        "id": "-dFt1fbnhNAQ"
      },
      "source": [
        "For the first task, we have to predict the time stamp of the next 100 events. We will first choose relevant columns for this task. Even though we splitted the time stamp into Days, Month and Hour variables before, we won't be using those. Those variables did not produce significant improvements in the performance of the model and thus, its better to use variables such as Cluster name, Number of Students and Duration."
      ]
    },
    {
      "cell_type": "code",
      "execution_count": 10,
      "metadata": {
        "id": "FEdzMvAO3v47"
      },
      "outputs": [],
      "source": [
        "## Extract features and targets from dataset\n",
        "\n",
        "# train_df_time = train_df[['Day', 'Hour', 'Second', 'Minute', 'Time_stamp_s']]\n",
        "# train_df_time_target = train_df[['Time_stamp_s']]\n",
        "# val_df_time = val_df[['Day', 'Hour', 'Second', 'Minute', 'Time_stamp_s']]\n",
        "# val_df_time_target = val_df[['Time_stamp_s']]\n",
        "# test_df_time = test_df[['Day', 'Hour', 'Second', 'Minute', 'Time_stamp_s']]\n",
        "# test_df_time_target = test_df[['Time_stamp_s']]\n",
        "\n",
        "\n",
        "train_df_time = train_df[['Cluster_name','num_students', 'duration', 'Time_stamp_s']]\n",
        "train_df_time_target = train_df[['Time_stamp_s']]\n",
        "val_df_time = val_df[['Cluster_name','num_students', 'duration', 'Time_stamp_s']]\n",
        "val_df_time_target = val_df[['Time_stamp_s']]\n",
        "test_df_time = test_df[['Cluster_name','num_students', 'duration', 'Time_stamp_s']]\n",
        "test_df_time_target = test_df[['Time_stamp_s']]\n",
        "\n"
      ]
    },
    {
      "cell_type": "code",
      "execution_count": 11,
      "metadata": {
        "colab": {
          "base_uri": "https://localhost:8080/"
        },
        "id": "ItmfzI3d3v48",
        "outputId": "a10dfa18-0906-4383-bc4d-56af62f172c0"
      },
      "outputs": [
        {
          "data": {
            "text/plain": [
              "((1721640, 4), (1721640, 1), (150, 4), (150, 1))"
            ]
          },
          "execution_count": 11,
          "metadata": {},
          "output_type": "execute_result"
        }
      ],
      "source": [
        "train_df_time.shape, train_df_time_target.shape, test_df_time.shape, test_df_time_target.shape"
      ]
    },
    {
      "cell_type": "markdown",
      "metadata": {
        "id": "fUCf1O_ihv-T"
      },
      "source": [
        "Below function will convert the given dataset into a format that can be fed into Time series neural network. It accepts additional parameters such as sequence length, number of future time steps to be predicted and name of the target column. For all 3 tasks, we will use a sequence length of 50 and future time step prediction of 1. A sequence consists of values of previous time stamps, and since we are using multiple variables, values of previous time stamps for each variable is part of the sequence. This is also referred as window size.\n",
        "\n",
        "Initial experiments made us realise that the dataset is too large and a larger sequence length causes model to take longer time to train. Additionally, creation of a time series dataset also takes additional time for a large dataset."
      ]
    },
    {
      "cell_type": "code",
      "execution_count": 12,
      "metadata": {
        "id": "9avZnOyn3v48"
      },
      "outputs": [],
      "source": [
        "def create_time_series_dataset(data, sequence_length, future_steps, col_name):\n",
        "    sequences = []\n",
        "    targets = []\n",
        "    target_df = data[col_name]\n",
        "    for i in range(len(data) - sequence_length - future_steps + 1):\n",
        "        sequence = data[i:i + sequence_length]\n",
        "        target = target_df[i + sequence_length:i + sequence_length + future_steps]\n",
        "        sequences.append(sequence)\n",
        "        targets.append(target)\n",
        "\n",
        "    return np.array(sequences), np.array(targets)"
      ]
    },
    {
      "cell_type": "code",
      "execution_count": 13,
      "metadata": {
        "id": "zkjT-KKf9PXw"
      },
      "outputs": [],
      "source": [
        "# target_feature_index = train_df.columns.get_loc('Time_stamp_s')\n",
        "\n",
        "train_df_X, train_df_y = create_time_series_dataset(train_df_time, 50, 1,'Time_stamp_s')\n",
        "test_df_X, test_df_y = create_time_series_dataset(test_df_time, 50, 1,'Time_stamp_s')\n",
        "val_df_X, val_df_y = create_time_series_dataset(val_df_time, 50, 1,'Time_stamp_s')\n"
      ]
    },
    {
      "cell_type": "markdown",
      "metadata": {
        "id": "PvQ_rJunjj0a"
      },
      "source": [
        "Below shapes of the dataset are in the format (Batch, Window_size, number_features). This is the format in which data will be fed to neural network."
      ]
    },
    {
      "cell_type": "code",
      "execution_count": 14,
      "metadata": {
        "colab": {
          "base_uri": "https://localhost:8080/"
        },
        "id": "_hB79PV4AQUU",
        "outputId": "e5a06cad-37b2-4b3a-b200-fb6ae0a1016c"
      },
      "outputs": [
        {
          "data": {
            "text/plain": [
              "((1721590, 50, 4),\n",
              " (1721590, 1),\n",
              " (100, 50, 4),\n",
              " (100, 1),\n",
              " (737797, 50, 4),\n",
              " (737797, 1))"
            ]
          },
          "execution_count": 14,
          "metadata": {},
          "output_type": "execute_result"
        }
      ],
      "source": [
        "train_df_X.shape, train_df_y.shape, test_df_X.shape, test_df_y.shape, val_df_X.shape, val_df_y.shape"
      ]
    },
    {
      "cell_type": "markdown",
      "metadata": {
        "id": "SvbAEaIzj9O8"
      },
      "source": [
        "## Model Building\n",
        "\n"
      ]
    },
    {
      "cell_type": "markdown",
      "metadata": {
        "id": "uiEkATuLkAL4"
      },
      "source": [
        "We have designed the simplest neural network architecture for time series problem. Our model consists of only 1 LSTM layer with 50 units and 1 Dense layer with 1 output unit. LSTMs, or Long Short-Term Memory networks, are a type of recurrent neural network (RNN) architecture designed to address the challenges of learning long-term dependencies in sequential data. We resorted to such a simple architecture due to the fact that complex architectures did not provide significant improvements in results and instead was taking longer time to train. The trade off between accuracy and training time was quite evident in this task."
      ]
    },
    {
      "cell_type": "code",
      "execution_count": 15,
      "metadata": {
        "id": "jYQN_Ku93v49"
      },
      "outputs": [],
      "source": [
        "import tensorflow as tf\n",
        "\n",
        "MAX_EPOCHS = 20\n",
        "\n",
        "def compile_and_fit(model, model_name, patience=4):\n",
        "  early_stopping = tf.keras.callbacks.EarlyStopping(monitor='val_loss',\n",
        "                                                    patience=patience,\n",
        "                                                    mode='min')\n",
        "\n",
        "  model.compile(loss=tf.keras.losses.MeanSquaredError(),\n",
        "                optimizer=tf.keras.optimizers.Adam(),\n",
        "                metrics=[tf.keras.metrics.MeanAbsoluteError()])\n",
        "\n",
        "  history = model.fit(train_df_X, train_df_y, epochs=MAX_EPOCHS,\n",
        "                      validation_data=(val_df_X, val_df_y),\n",
        "                      callbacks=[early_stopping])\n",
        "  model.save_weights(f'./time_Series/lstm_model_{model_name}.h5')\n",
        "  return history"
      ]
    },
    {
      "cell_type": "code",
      "execution_count": 19,
      "metadata": {
        "colab": {
          "base_uri": "https://localhost:8080/"
        },
        "id": "ejJ5hUeG3v49",
        "outputId": "7f0c9d4b-0014-4674-be89-7f08416c9a34"
      },
      "outputs": [
        {
          "name": "stdout",
          "output_type": "stream",
          "text": [
            "Epoch 1/20\n",
            "53800/53800 [==============================] - 298s 5ms/step - loss: 2.1810e-04 - mean_absolute_error: 0.0029 - val_loss: 3.4447e-05 - val_mean_absolute_error: 0.0047\n",
            "Epoch 2/20\n",
            "53800/53800 [==============================] - 293s 5ms/step - loss: 2.3908e-06 - mean_absolute_error: 0.0010 - val_loss: 6.2024e-05 - val_mean_absolute_error: 0.0059\n",
            "Epoch 3/20\n",
            "53800/53800 [==============================] - 294s 5ms/step - loss: 1.1895e-06 - mean_absolute_error: 7.3664e-04 - val_loss: 8.6930e-05 - val_mean_absolute_error: 0.0065\n",
            "Epoch 4/20\n",
            "53800/53800 [==============================] - 294s 5ms/step - loss: 7.8487e-07 - mean_absolute_error: 5.5257e-04 - val_loss: 3.5350e-05 - val_mean_absolute_error: 0.0040\n",
            "Epoch 5/20\n",
            "53800/53800 [==============================] - 293s 5ms/step - loss: 8.3398e-07 - mean_absolute_error: 4.9977e-04 - val_loss: 2.9149e-05 - val_mean_absolute_error: 0.0037\n",
            "Epoch 6/20\n",
            "53800/53800 [==============================] - 293s 5ms/step - loss: 5.9196e-07 - mean_absolute_error: 4.3176e-04 - val_loss: 3.2643e-06 - val_mean_absolute_error: 0.0011\n",
            "Epoch 7/20\n",
            "53800/53800 [==============================] - 294s 5ms/step - loss: 4.9867e-07 - mean_absolute_error: 4.1734e-04 - val_loss: 1.6479e-06 - val_mean_absolute_error: 6.0318e-04\n",
            "Epoch 8/20\n",
            "53800/53800 [==============================] - 326s 6ms/step - loss: 4.2983e-07 - mean_absolute_error: 3.9275e-04 - val_loss: 4.2660e-06 - val_mean_absolute_error: 9.3765e-04\n",
            "Epoch 9/20\n",
            "53800/53800 [==============================] - 329s 6ms/step - loss: 3.6893e-07 - mean_absolute_error: 3.5789e-04 - val_loss: 7.3224e-06 - val_mean_absolute_error: 0.0012\n",
            "Epoch 10/20\n",
            "53800/53800 [==============================] - 336s 6ms/step - loss: 3.8317e-07 - mean_absolute_error: 3.4598e-04 - val_loss: 6.7760e-06 - val_mean_absolute_error: 0.0013\n",
            "Epoch 11/20\n",
            "53800/53800 [==============================] - 335s 6ms/step - loss: 2.6607e-07 - mean_absolute_error: 3.2354e-04 - val_loss: 8.4693e-06 - val_mean_absolute_error: 0.0016\n"
          ]
        }
      ],
      "source": [
        "\n",
        "multi_lstm_model_time = tf.keras.Sequential([\n",
        "    # Shape [batch, time, features] => [batch, lstm_units].\n",
        "    # Adding more `lstm_units` just overfits more quickly.\n",
        "    tf.keras.layers.LSTM(50, return_sequences=False),\n",
        "    # Shape => [batch, out_steps*features].\n",
        "    # tf.keras.layers.Dense(100*1,\n",
        "    #                       kernel_initializer=tf.initializers.zeros()),\n",
        "    # # Shape => [batch, out_steps, features].\n",
        "    # tf.keras.layers.Reshape([100, 1])\n",
        "    tf.keras.layers.Dense(1)\n",
        "])\n",
        "\n",
        "history = compile_and_fit(multi_lstm_model_time, 'multi_lstm_model_time')"
      ]
    },
    {
      "cell_type": "code",
      "execution_count": 20,
      "metadata": {
        "colab": {
          "base_uri": "https://localhost:8080/"
        },
        "id": "jjUXCNNq3v49",
        "outputId": "0f8658f5-41ef-4f02-e16c-06976185ea4d"
      },
      "outputs": [
        {
          "name": "stdout",
          "output_type": "stream",
          "text": [
            "4/4 [==============================] - 0s 4ms/step - loss: 4.6016e-04 - mean_absolute_error: 0.0208\n",
            "Mean Squared Error: 0.00046015874249860644\n",
            "\n",
            "Mean Absolute Error: 0.020809656009078026\n"
          ]
        }
      ],
      "source": [
        "# multi_lstm_model_time.load_weights(\"./lstm_model_multi_lstm_model_time.h5\")\n",
        "# multi_lstm_model_time.compile(loss=tf.keras.losses.MeanSquaredError(),\n",
        "                # optimizer=tf.keras.optimizers.Adam(),\n",
        "                # metrics=[tf.keras.metrics.MeanAbsoluteError()])\n",
        "mse_time, mae_time = multi_lstm_model_time.evaluate(test_df_X, test_df_y)\n",
        "\n",
        "print(f\"Mean Squared Error: {mse_time}\\n\")\n",
        "print(f\"Mean Absolute Error: {mae_time}\")"
      ]
    },
    {
      "cell_type": "markdown",
      "metadata": {
        "id": "OwCIfy3KljiA"
      },
      "source": [
        "The Mean absolute error and Mean squared error are quite low on validation and test sets. This indicates that our predictions are not far off from the actual values. Now, let's look at the R2 score."
      ]
    },
    {
      "cell_type": "code",
      "execution_count": 21,
      "metadata": {
        "colab": {
          "base_uri": "https://localhost:8080/"
        },
        "id": "ICQ41mk6D8f9",
        "outputId": "45993be4-039d-4fa7-8a72-4be2631172bf"
      },
      "outputs": [
        {
          "name": "stdout",
          "output_type": "stream",
          "text": [
            "4/4 [==============================] - 0s 3ms/step\n",
            "R2 Score: -8680.127998319913\n"
          ]
        }
      ],
      "source": [
        "from sklearn.metrics import r2_score\n",
        "\n",
        "y_pred = multi_lstm_model_time.predict(test_df_X)\n",
        "\n",
        "y_pred_inv_scale = scaler_time_stamp.inverse_transform(y_pred)\n",
        "test_df_y_inv_scale = scaler_time_stamp.inverse_transform(test_df_y)\n",
        "\n",
        "r2_time = r2_score(test_df_y_inv_scale, y_pred_inv_scale)\n",
        "\n",
        "print(f\"R2 Score: {r2_time}\")"
      ]
    },
    {
      "cell_type": "markdown",
      "metadata": {
        "id": "1CHPgIQsl7Xu"
      },
      "source": [
        "Surprisingly, the R2 score is negative. This is quite concerning since this means that our model cannot identify the complex pattern in the dataset provided. This could further be improved by a complex model or using different variables to predict the time stamp. Let's plot the values to get a better idea."
      ]
    },
    {
      "cell_type": "code",
      "execution_count": 26,
      "metadata": {
        "colab": {
          "base_uri": "https://localhost:8080/",
          "height": 452
        },
        "id": "zMTTK-nj89je",
        "outputId": "8f60e7c0-f01c-448a-8417-bb19cab56711"
      },
      "outputs": [
        {
          "data": {
            "text/plain": [
              "<matplotlib.legend.Legend at 0x7f31f9328490>"
            ]
          },
          "execution_count": 26,
          "metadata": {},
          "output_type": "execute_result"
        },
        {
          "data": {
            "image/png": "[encoded data removed]",
            "text/plain": [
              "<Figure size 640x480 with 1 Axes>"
            ]
          },
          "metadata": {},
          "output_type": "display_data"
        }
      ],
      "source": [
        "import matplotlib.pyplot as plt\n",
        "\n",
        "plt.plot(test_df_y, label = \"Actual\")\n",
        "plt.plot(y_pred, label = \"Predictions\")\n",
        "plt.gca().set_ylim(1, 1.5)\n",
        "plt.legend()"
      ]
    },
    {
      "cell_type": "markdown",
      "metadata": {
        "id": "LgVtJP1xmTZv"
      },
      "source": [
        "The above plot shows the difference in values predicted and actual time stamps. Our predictions are quite close if you consider the range of predictions and actual time stamps. However, since these values are time stamps in seconds, this difference which seems small is actually quite large and thus, we might need a more complex model and regularization to reduce the error values further down."
      ]
    },
    {
      "cell_type": "markdown",
      "metadata": {
        "id": "vI3QDGfW3v4-"
      },
      "source": [
        "## Task 2: Predicting number of Students for next 100 Events"
      ]
    },
    {
      "cell_type": "markdown",
      "metadata": {
        "id": "ErilroIDnYJt"
      },
      "source": [
        "To predict the number of students, we will use the same variables used before. The neural network architecture and window size will also be the same."
      ]
    },
    {
      "cell_type": "code",
      "execution_count": 27,
      "metadata": {
        "id": "yfkAAZV33v4-"
      },
      "outputs": [],
      "source": [
        "## Extract features and targets from dataset\n",
        "\n",
        "train_df_num_students = train_df[['Event','Cluster_name','duration','num_students']]\n",
        "# train_df_num_students_target = train_df[['num_students']]\n",
        "val_df_num_students = val_df[['Event','Cluster_name','duration','num_students']]\n",
        "# val_df_num_students_target = val_df[['num_students']]\n",
        "test_df_num_students = test_df[['Event','Cluster_name','duration','num_students']]\n",
        "# test_df_num_students_target = test_df[['num_students']]"
      ]
    },
    {
      "cell_type": "code",
      "execution_count": 28,
      "metadata": {
        "id": "JhpDFkrM89jf"
      },
      "outputs": [],
      "source": [
        "train_df_X, train_df_y = create_time_series_dataset(train_df_num_students, 50, 1,'num_students')\n",
        "test_df_X, test_df_y = create_time_series_dataset(test_df_num_students, 50, 1,'num_students')\n",
        "val_df_X, val_df_y = create_time_series_dataset(val_df_num_students, 50, 1,'num_students')"
      ]
    },
    {
      "cell_type": "code",
      "execution_count": null,
      "metadata": {
        "colab": {
          "base_uri": "https://localhost:8080/"
        },
        "id": "SOkDDy9Z3v4-",
        "outputId": "0763d05b-a98d-4cb7-e86f-46a1321a1f52"
      },
      "outputs": [
        {
          "name": "stdout",
          "output_type": "stream",
          "text": [
            "Epoch 1/20\n",
            "53803/53803 [==============================] - 282s 5ms/step - loss: 1.2198e-04 - mean_absolute_error: 0.0032 - val_loss: 2.0004e-06 - val_mean_absolute_error: 0.0012\n",
            "Epoch 2/20\n",
            "53803/53803 [==============================] - 278s 5ms/step - loss: 4.2364e-06 - mean_absolute_error: 0.0016 - val_loss: 4.8355e-06 - val_mean_absolute_error: 0.0018\n",
            "Epoch 3/20\n",
            "53803/53803 [==============================] - 278s 5ms/step - loss: 3.0202e-06 - mean_absolute_error: 0.0014 - val_loss: 1.7871e-06 - val_mean_absolute_error: 0.0011\n",
            "Epoch 4/20\n",
            "53803/53803 [==============================] - 278s 5ms/step - loss: 2.4956e-06 - mean_absolute_error: 0.0013 - val_loss: 1.5981e-06 - val_mean_absolute_error: 0.0011\n",
            "Epoch 5/20\n",
            "53803/53803 [==============================] - 278s 5ms/step - loss: 2.2238e-06 - mean_absolute_error: 0.0012 - val_loss: 1.9293e-06 - val_mean_absolute_error: 0.0012\n",
            "Epoch 6/20\n",
            "53803/53803 [==============================] - 278s 5ms/step - loss: 2.0369e-06 - mean_absolute_error: 0.0012 - val_loss: 1.3184e-06 - val_mean_absolute_error: 0.0011\n",
            "Epoch 7/20\n",
            "53803/53803 [==============================] - 278s 5ms/step - loss: 1.9223e-06 - mean_absolute_error: 0.0012 - val_loss: 1.6037e-06 - val_mean_absolute_error: 0.0011\n",
            "Epoch 8/20\n",
            "53803/53803 [==============================] - 278s 5ms/step - loss: 1.8678e-06 - mean_absolute_error: 0.0011 - val_loss: 1.3651e-06 - val_mean_absolute_error: 0.0011\n",
            "Epoch 9/20\n",
            "53803/53803 [==============================] - 278s 5ms/step - loss: 1.8331e-06 - mean_absolute_error: 0.0011 - val_loss: 1.6700e-06 - val_mean_absolute_error: 0.0011\n",
            "Epoch 10/20\n",
            "53803/53803 [==============================] - 278s 5ms/step - loss: 1.7724e-06 - mean_absolute_error: 0.0011 - val_loss: 1.3341e-06 - val_mean_absolute_error: 0.0011\n"
          ]
        }
      ],
      "source": [
        "\n",
        "multi_lstm_model_num_students = tf.keras.Sequential([\n",
        "    # Shape [batch, time, features] => [batch, lstm_units].\n",
        "    # Adding more `lstm_units` just overfits more quickly.\n",
        "    tf.keras.layers.LSTM(50, return_sequences=False),\n",
        "    # Shape => [batch, out_steps*features].\n",
        "    # tf.keras.layers.Dense(100*1,\n",
        "    #                       kernel_initializer=tf.initializers.zeros()),\n",
        "    # # Shape => [batch, out_steps, features].\n",
        "    # tf.keras.layers.Reshape([100, 1])\n",
        "    tf.keras.layers.Dense(1)\n",
        "])\n",
        "\n",
        "history = compile_and_fit(multi_lstm_model_num_students, 'multi_lstm_model_num_students')"
      ]
    },
    {
      "cell_type": "code",
      "execution_count": 31,
      "metadata": {
        "colab": {
          "base_uri": "https://localhost:8080/"
        },
        "id": "EDwXAd8-3v4-",
        "outputId": "a343c236-c108-462f-9100-389ff83c396d"
      },
      "outputs": [
        {
          "name": "stdout",
          "output_type": "stream",
          "text": [
            "4/4 [==============================] - 0s 5ms/step - loss: 1.1598e-06 - mean_absolute_error: 9.4237e-04\n",
            "Mean Squared Error: 1.159786847892974e-06\n",
            "\n",
            "Mean Absolute Error: 0.0009423707379028201\n"
          ]
        }
      ],
      "source": [
        "multi_lstm_model_num_students.load_weights(\"./lstm_model_multi_lstm_model_num_students.h5\")\n",
        "multi_lstm_model_num_students.compile(loss=tf.keras.losses.MeanSquaredError(),\n",
        "                optimizer=tf.keras.optimizers.Adam(),\n",
        "                metrics=[tf.keras.metrics.MeanAbsoluteError()])\n",
        "\n",
        "mse_time, mae_time = multi_lstm_model_num_students.evaluate(test_df_X, test_df_y)\n",
        "\n",
        "print(f\"Mean Squared Error: {mse_time}\\n\")\n",
        "print(f\"Mean Absolute Error: {mae_time}\")\n"
      ]
    },
    {
      "cell_type": "markdown",
      "metadata": {
        "id": "Z43_pnXln-QU"
      },
      "source": [
        "For this task, the mean absolute error and mean square error are significantly better. Let's have a look at the R2 score to further assess the results."
      ]
    },
    {
      "cell_type": "code",
      "execution_count": 32,
      "metadata": {
        "colab": {
          "base_uri": "https://localhost:8080/"
        },
        "id": "tpjoDaCQ89jf",
        "outputId": "1080d703-ccc3-4fa0-f717-2ca290625078"
      },
      "outputs": [
        {
          "name": "stdout",
          "output_type": "stream",
          "text": [
            "4/4 [==============================] - 0s 3ms/step\n",
            "R2 Score: 0.9654562991398087\n"
          ]
        }
      ],
      "source": [
        "y_pred = multi_lstm_model_num_students.predict(test_df_X)\n",
        "\n",
        "r2_time = r2_score(test_df_y, y_pred)\n",
        "\n",
        "print(f\"R2 Score: {r2_time}\")"
      ]
    },
    {
      "cell_type": "markdown",
      "metadata": {
        "id": "wCkvLGXtoaqE"
      },
      "source": [
        "R2 score of 0.96 is quite good. It indicates that our model has successfully identified patterns in the dataset and is able to predict values quite close to actual values."
      ]
    },
    {
      "cell_type": "code",
      "execution_count": 33,
      "metadata": {
        "colab": {
          "base_uri": "https://localhost:8080/",
          "height": 447
        },
        "id": "6slnnAth89jf",
        "outputId": "bdc107bf-4f2a-49d0-f7da-465eb5faacf9"
      },
      "outputs": [
        {
          "data": {
            "text/plain": [
              "<matplotlib.legend.Legend at 0x7f31f343b490>"
            ]
          },
          "execution_count": 33,
          "metadata": {},
          "output_type": "execute_result"
        },
        {
          "data": {
            "image/png": "[encoded data removed]",
            "text/plain": [
              "<Figure size 640x480 with 1 Axes>"
            ]
          },
          "metadata": {},
          "output_type": "display_data"
        }
      ],
      "source": [
        "plt.plot(test_df_y, label = \"Actual\")\n",
        "plt.plot(y_pred, label = \"Predictions\")\n",
        "plt.legend()"
      ]
    },
    {
      "cell_type": "markdown",
      "metadata": {
        "id": "0_hwpzpDo2rR"
      },
      "source": [
        "The above plot shows how close our predictions are to the actual value. This model performed significantly better than the previous model."
      ]
    },
    {
      "cell_type": "markdown",
      "metadata": {
        "id": "wawmdYiL3v4_"
      },
      "source": [
        "## Task 3: Predicting Cluster names for next 100 Events"
      ]
    },
    {
      "cell_type": "markdown",
      "metadata": {
        "id": "Ez57NAL5qTYS"
      },
      "source": [
        "For this task, we will make slight modifications to our neural network architecture. Since, we have to predict a categorical variable, we will change the output layer to have number of units equal to the number of classes and add a softmax function to get the probabilities of classes."
      ]
    },
    {
      "cell_type": "code",
      "execution_count": 39,
      "metadata": {
        "id": "j9d4RIqb3v4_"
      },
      "outputs": [],
      "source": [
        "## Extract features and targets from dataset\n",
        "\n",
        "train_df_cluster_name = train_df[['Event', 'duration', 'num_students', 'Cluster_name']]\n",
        "# train_df_cluster_name_target = train_df[['Cluster_name']]\n",
        "val_df_cluster_name = val_df[['Event', 'duration', 'num_students', 'Cluster_name']]\n",
        "# val_df_cluster_name_target = val_df[['Cluster_name']]\n",
        "test_df_cluster_name = test_df[['Event', 'duration', 'num_students', 'Cluster_name']]\n",
        "# test_df_cluster_name_target = test_df[['Cluster_name']]"
      ]
    },
    {
      "cell_type": "code",
      "execution_count": 41,
      "metadata": {
        "id": "UjkU8QwA89jf"
      },
      "outputs": [],
      "source": [
        "train_df_X, train_df_y = create_time_series_dataset(train_df_cluster_name, 50, 1,'Cluster_name')\n",
        "test_df_X, test_df_y = create_time_series_dataset(test_df_cluster_name, 50, 1,'Cluster_name')\n",
        "val_df_X, val_df_y = create_time_series_dataset(val_df_cluster_name, 50, 1,'Cluster_name')"
      ]
    },
    {
      "cell_type": "code",
      "execution_count": 42,
      "metadata": {
        "id": "bYvUU-o0SU0r"
      },
      "outputs": [],
      "source": [
        "from keras.utils import to_categorical\n",
        "\n",
        "train_df_y = to_categorical(train_df_y, num_classes = 37)\n",
        "test_df_y = to_categorical(test_df_y, num_classes = 37)\n",
        "val_df_y = to_categorical(val_df_y, num_classes = 37)"
      ]
    },
    {
      "cell_type": "code",
      "execution_count": null,
      "metadata": {
        "colab": {
          "base_uri": "https://localhost:8080/"
        },
        "id": "sdkQ-tT03v4_",
        "outputId": "1d53bf79-5f77-401c-b862-bed056ca3bba"
      },
      "outputs": [
        {
          "name": "stdout",
          "output_type": "stream",
          "text": [
            "Epoch 1/20\n",
            "53803/53803 [==============================] - 289s 5ms/step - loss: 3.0786 - accuracy: 0.1436 - val_loss: 3.2549 - val_accuracy: 0.1197\n",
            "Epoch 2/20\n",
            "53803/53803 [==============================] - 284s 5ms/step - loss: 3.0364 - accuracy: 0.1486 - val_loss: 3.2413 - val_accuracy: 0.1221\n",
            "Epoch 3/20\n",
            "53803/53803 [==============================] - 284s 5ms/step - loss: 3.0189 - accuracy: 0.1504 - val_loss: 3.2289 - val_accuracy: 0.1227\n",
            "Epoch 4/20\n",
            "53803/53803 [==============================] - 284s 5ms/step - loss: 3.0082 - accuracy: 0.1520 - val_loss: 3.2258 - val_accuracy: 0.1256\n",
            "Epoch 5/20\n",
            "53803/53803 [==============================] - 285s 5ms/step - loss: 3.0008 - accuracy: 0.1525 - val_loss: 3.2119 - val_accuracy: 0.1265\n",
            "Epoch 6/20\n",
            "53803/53803 [==============================] - 285s 5ms/step - loss: 2.9955 - accuracy: 0.1531 - val_loss: 3.2234 - val_accuracy: 0.1257\n",
            "Epoch 7/20\n",
            "53803/53803 [==============================] - 286s 5ms/step - loss: 2.9915 - accuracy: 0.1534 - val_loss: 3.2137 - val_accuracy: 0.1278\n",
            "Epoch 8/20\n",
            "53803/53803 [==============================] - 285s 5ms/step - loss: 2.9881 - accuracy: 0.1537 - val_loss: 3.2103 - val_accuracy: 0.1263\n",
            "Epoch 9/20\n",
            "53803/53803 [==============================] - 286s 5ms/step - loss: 2.9851 - accuracy: 0.1542 - val_loss: 3.2007 - val_accuracy: 0.1271\n",
            "Epoch 10/20\n",
            "53803/53803 [==============================] - 285s 5ms/step - loss: 2.9820 - accuracy: 0.1546 - val_loss: 3.2117 - val_accuracy: 0.1273\n",
            "Epoch 11/20\n",
            "53803/53803 [==============================] - 285s 5ms/step - loss: 2.9795 - accuracy: 0.1549 - val_loss: 3.2043 - val_accuracy: 0.1282\n",
            "Epoch 12/20\n",
            "53803/53803 [==============================] - 284s 5ms/step - loss: 2.9773 - accuracy: 0.1551 - val_loss: 3.1939 - val_accuracy: 0.1269\n",
            "Epoch 13/20\n",
            "53803/53803 [==============================] - 285s 5ms/step - loss: 2.9756 - accuracy: 0.1555 - val_loss: 3.1973 - val_accuracy: 0.1270\n",
            "Epoch 14/20\n",
            "53803/53803 [==============================] - 285s 5ms/step - loss: 2.9739 - accuracy: 0.1557 - val_loss: 3.2019 - val_accuracy: 0.1281\n",
            "Epoch 15/20\n",
            "53803/53803 [==============================] - 285s 5ms/step - loss: 2.9725 - accuracy: 0.1557 - val_loss: 3.2000 - val_accuracy: 0.1275\n",
            "Epoch 16/20\n",
            "53803/53803 [==============================] - 285s 5ms/step - loss: 2.9711 - accuracy: 0.1558 - val_loss: 3.1920 - val_accuracy: 0.1273\n",
            "Epoch 17/20\n",
            "53803/53803 [==============================] - 285s 5ms/step - loss: 2.9692 - accuracy: 0.1559 - val_loss: 3.1826 - val_accuracy: 0.1293\n",
            "Epoch 18/20\n",
            "53803/53803 [==============================] - 286s 5ms/step - loss: 2.9680 - accuracy: 0.1557 - val_loss: 3.1868 - val_accuracy: 0.1280\n",
            "Epoch 19/20\n",
            "53803/53803 [==============================] - 286s 5ms/step - loss: 2.9665 - accuracy: 0.1561 - val_loss: 3.1916 - val_accuracy: 0.1290\n",
            "Epoch 20/20\n",
            "53803/53803 [==============================] - 287s 5ms/step - loss: 2.9652 - accuracy: 0.1564 - val_loss: 3.1958 - val_accuracy: 0.1282\n"
          ]
        }
      ],
      "source": [
        "import tensorflow as tf\n",
        "\n",
        "num_classes = len(np.unique(train_df['Cluster_name']))\n",
        "\n",
        "\n",
        "multi_lstm_model_cluster_name = tf.keras.Sequential([\n",
        "    # Shape [batch, time, features] => [batch, lstm_units].\n",
        "    # Adding more `lstm_units` just overfits more quickly.\n",
        "    tf.keras.layers.LSTM(50, return_sequences=False),\n",
        "    # Shape => [batch, out_steps*features].\n",
        "    # tf.keras.layers.Dense(100*1,\n",
        "    #                       kernel_initializer=tf.initializers.zeros()),\n",
        "    # # Shape => [batch, out_steps, features].\n",
        "    # tf.keras.layers.Reshape([100, 1])\n",
        "    tf.keras.layers.Dense(num_classes, activation = 'softmax')\n",
        "])\n",
        "\n",
        "early_stopping = tf.keras.callbacks.EarlyStopping(monitor='val_loss',\n",
        "                                                    patience=4,\n",
        "                                                    mode='min')\n",
        "\n",
        "multi_lstm_model_cluster_name.compile(loss='categorical_crossentropy',\n",
        "                optimizer=tf.keras.optimizers.Adam(),\n",
        "                metrics=['accuracy'])\n",
        "\n",
        "history = multi_lstm_model_cluster_name.fit(train_df_X, train_df_y, epochs=20,\n",
        "                      validation_data=(val_df_X, val_df_y),\n",
        "                      callbacks=[early_stopping])\n",
        "\n",
        "\n",
        "# history = compile_and_fit(multi_lstm_model_cluster_name, 'multi_lstm_model_cluster_name')"
      ]
    },
    {
      "cell_type": "code",
      "execution_count": 43,
      "metadata": {
        "colab": {
          "base_uri": "https://localhost:8080/"
        },
        "id": "KiK1fu_289jg",
        "outputId": "7273ca99-4c2f-4942-f172-5552eceab21c"
      },
      "outputs": [
        {
          "name": "stdout",
          "output_type": "stream",
          "text": [
            "4/4 [==============================] - 1s 6ms/step - loss: 1.4036 - accuracy: 0.3700\n"
          ]
        },
        {
          "data": {
            "text/plain": [
              "[1.403559684753418, 0.3700000047683716]"
            ]
          },
          "execution_count": 43,
          "metadata": {},
          "output_type": "execute_result"
        }
      ],
      "source": [
        "num_classes = 37\n",
        "multi_lstm_model_cluster_name = tf.keras.Sequential([\n",
        "    # Shape [batch, time, features] => [batch, lstm_units].\n",
        "    # Adding more `lstm_units` just overfits more quickly.\n",
        "    tf.keras.layers.LSTM(50, input_shape = (50,4), return_sequences=False),\n",
        "    # Shape => [batch, out_steps*features].\n",
        "    # tf.keras.layers.Dense(100*1,\n",
        "    #                       kernel_initializer=tf.initializers.zeros()),\n",
        "    # # Shape => [batch, out_steps, features].\n",
        "    # tf.keras.layers.Reshape([100, 1])\n",
        "    tf.keras.layers.Dense(num_classes, activation = 'softmax')\n",
        "])\n",
        "\n",
        "# model_name = \"lstm_model_cluster_name\"\n",
        "# multi_lstm_model_cluster_name.save_weights(f'./time_Series/lstm_model_{model_name}.h5')\n",
        "multi_lstm_model_cluster_name.load_weights(\"/content/lstm_model_lstm_model_cluster_name.h5\")\n",
        "\n",
        "multi_lstm_model_cluster_name.compile(loss='categorical_crossentropy',\n",
        "                optimizer=tf.keras.optimizers.Adam(),\n",
        "                metrics=['accuracy'])\n",
        "\n",
        "multi_lstm_model_cluster_name.evaluate(test_df_X, test_df_y)"
      ]
    },
    {
      "cell_type": "markdown",
      "metadata": {
        "id": "dA2xoGoirKIF"
      },
      "source": [
        "Our model's accuracy on the validation is set is quite low, just 12%. The performance on the test set is 37%, which is better than validation data. However, the test set only contains 100 data points and considering the nature of our dataset, all cluster names are not included within 100 data points. Hence, the accuracy here is not the true representation of the model's actual performance. Perhaps, the model is not complex enough to understand the trends in the dataset and it might be helpful to add a few more layers and variables to help the model. Due to time and resource constraints, we will leave that to future scope of this project."
      ]
    },
    {
      "cell_type": "code",
      "execution_count": 44,
      "metadata": {
        "colab": {
          "base_uri": "https://localhost:8080/"
        },
        "id": "5FI6wkCkvJFN",
        "outputId": "7e815b81-ffc7-4c50-fe36-b109d59023c0"
      },
      "outputs": [
        {
          "name": "stdout",
          "output_type": "stream",
          "text": [
            "4/4 [==============================] - 0s 3ms/step\n",
            "              precision    recall  f1-score   support\n",
            "\n",
            "           9       0.30      0.53      0.38        19\n",
            "          14       0.00      0.00      0.00         1\n",
            "          15       0.23      0.10      0.14        31\n",
            "          24       0.50      0.27      0.35        11\n",
            "          28       0.44      0.55      0.49        38\n",
            "\n",
            "    accuracy                           0.37       100\n",
            "   macro avg       0.29      0.29      0.27       100\n",
            "weighted avg       0.35      0.37      0.34       100\n",
            "\n"
          ]
        },
        {
          "name": "stderr",
          "output_type": "stream",
          "text": [
            "/usr/local/lib/python3.10/dist-packages/sklearn/metrics/_classification.py:1344: UndefinedMetricWarning: Precision and F-score are ill-defined and being set to 0.0 in labels with no predicted samples. Use `zero_division` parameter to control this behavior.\n",
            "  _warn_prf(average, modifier, msg_start, len(result))\n",
            "/usr/local/lib/python3.10/dist-packages/sklearn/metrics/_classification.py:1344: UndefinedMetricWarning: Precision and F-score are ill-defined and being set to 0.0 in labels with no predicted samples. Use `zero_division` parameter to control this behavior.\n",
            "  _warn_prf(average, modifier, msg_start, len(result))\n",
            "/usr/local/lib/python3.10/dist-packages/sklearn/metrics/_classification.py:1344: UndefinedMetricWarning: Precision and F-score are ill-defined and being set to 0.0 in labels with no predicted samples. Use `zero_division` parameter to control this behavior.\n",
            "  _warn_prf(average, modifier, msg_start, len(result))\n"
          ]
        }
      ],
      "source": [
        "from sklearn.metrics import confusion_matrix, classification_report\n",
        "import seaborn as sns\n",
        "import matplotlib.pyplot as plt\n",
        "\n",
        "y_pred = multi_lstm_model_cluster_name.predict(test_df_X)\n",
        "\n",
        "y_pred_class = y_pred.argmax(axis = 1)\n",
        "\n",
        "cm = classification_report(np.argmax(test_df_y, axis=1), np.argmax(y_pred,axis=1))\n",
        "\n",
        "# plt.figure(figsize=(8, 6))\n",
        "# sns.heatmap(cm, annot=True, fmt='d', cmap='Blues')\n",
        "# plt.xlabel('Predicted Labels')\n",
        "# plt.ylabel('True Labels')\n",
        "# plt.title('Confusion Matrix')\n",
        "# plt.show()\n",
        "print(cm)"
      ]
    },
    {
      "cell_type": "markdown",
      "metadata": {
        "id": "SAYCfIeC3v5H"
      },
      "source": [
        "## Demo"
      ]
    },
    {
      "cell_type": "code",
      "execution_count": 5,
      "metadata": {},
      "outputs": [],
      "source": [
        "from sklearn.preprocessing import MinMaxScaler, LabelEncoder\n",
        "from keras.utils import to_categorical\n",
        "\n",
        "scaler_duration = MinMaxScaler()\n",
        "scaler_num_students = MinMaxScaler()\n",
        "scaler_time_stamp = MinMaxScaler()\n",
        "scaler_hour = MinMaxScaler()\n",
        "scaler_minute = MinMaxScaler()\n",
        "scaler_sec = MinMaxScaler()\n",
        "\n",
        "label_enc_event = LabelEncoder()\n",
        "label_enc_cluster = LabelEncoder()\n",
        "label_enc_day = LabelEncoder()\n",
        "\n",
        "def scale_encode_data(data_mod, train_data = True):\n",
        "\n",
        "    data = data_mod.copy()\n",
        "    if train_data:\n",
        "        data['duration'] = scaler_duration.fit_transform(data[['duration']])\n",
        "        data['num_students'] = scaler_num_students.fit_transform(data[['num_students']])\n",
        "        data['Time_stamp_s'] = scaler_time_stamp.fit_transform(data[['Time_stamp_s']])\n",
        "        data['Hour'] = scaler_hour.fit_transform(data[['Hour']])\n",
        "        data['Minute'] = scaler_minute.fit_transform(data[['Minute']])\n",
        "        data['Second'] = scaler_sec.fit_transform(data[['Second']])\n",
        "\n",
        "        data['Event'] = label_enc_event.fit_transform(data['Event'])\n",
        "        data['Cluster_name'] = label_enc_cluster.fit_transform(data['Cluster_name'])\n",
        "        data['Day'] = label_enc_day.fit_transform(data['Day'])\n",
        "\n",
        "        return data\n",
        "\n",
        "    data['duration'] = scaler_duration.transform(data[['duration']])\n",
        "    data['num_students'] = scaler_num_students.transform(data[['num_students']])\n",
        "    data['Time_stamp_s'] = scaler_time_stamp.transform(data[['Time_stamp_s']])\n",
        "    data['Hour'] = scaler_hour.transform(data[['Hour']])\n",
        "    data['Minute'] = scaler_minute.transform(data[['Minute']])\n",
        "    data['Second'] = scaler_sec.transform(data[['Second']])\n",
        "\n",
        "    data['Event'] = label_enc_event.transform(data['Event'])\n",
        "    data['Cluster_name'] = label_enc_cluster.transform(data['Cluster_name'])\n",
        "    data['Day'] = label_enc_day.transform(data['Day'])\n",
        "\n",
        "    return data\n",
        "\n",
        "def create_time_series_dataset(data, sequence_length, future_steps, col_name):\n",
        "    sequences = []\n",
        "    targets = []\n",
        "    target_df = data[col_name]\n",
        "    for i in range(len(data) - sequence_length - future_steps + 1):\n",
        "        sequence = data[i:i + sequence_length]\n",
        "        target = target_df[i + sequence_length:i + sequence_length + future_steps]\n",
        "        sequences.append(sequence)\n",
        "        targets.append(target)\n",
        "\n",
        "    return np.array(sequences), np.array(targets)"
      ]
    },
    {
      "cell_type": "code",
      "execution_count": 6,
      "metadata": {
        "id": "J-O0BctaacZR"
      },
      "outputs": [],
      "source": [
        "import dateutil.parser\n",
        "import dateutil.tz\n",
        "\n",
        "demo_df = pd.read_csv(\"./TestLog.csv\")\n",
        "demo_df.columns = [\"Time_stamp\", \"Event\", \"Cluster_name\", \"duration\", \"num_students\"]\n",
        "demo_df.head()\n",
        "\n",
        "## Splitting the time stamp to create additional features\n",
        "\n",
        "demo_df[\"Day\"] = demo_df[\"Time_stamp\"].apply(lambda x: x.split(' ')[0])\n",
        "demo_df[\"Month\"] = demo_df[\"Time_stamp\"].apply(lambda x: x.split(' ')[1])\n",
        "demo_df[\"Date\"] = demo_df[\"Time_stamp\"].apply(lambda x: np.int64(x.split(' ')[2]))\n",
        "demo_df[\"Hour\"] = demo_df[\"Time_stamp\"].apply(lambda x: np.int64(x.split(' ')[3].split(':')[0]))\n",
        "demo_df[\"Minute\"] = demo_df[\"Time_stamp\"].apply(lambda x: np.int64(x.split(' ')[3].split(':')[1]))\n",
        "demo_df[\"Second\"] = demo_df[\"Time_stamp\"].apply(lambda x: np.int64(x.split(' ')[3].split(':')[2]))\n",
        "\n",
        "\n",
        "## Converting time stamp to consistent format\n",
        "BST = dateutil.tz.gettz('Europe/London')\n",
        "# dateutil.parser.parse('25-Oct-20 12:00:00 AM BST', tzinfos={'BST': BST})\n",
        "demo_df['Time_stamp'] = demo_df['Time_stamp'].apply(lambda x: dateutil.parser.parse(x, tzinfos={'BST': BST}))\n",
        "\n",
        "\n",
        "## creating target variable by converting time stamp to a number\n",
        "demo_df['Time_stamp_s'] = demo_df['Time_stamp'].apply(lambda x: pd.Timestamp.timestamp(pd.Timestamp(x)))\n",
        "demo_df_time = demo_df.set_index('Time_stamp')\n",
        "demo_df_time.head()\n",
        "\n",
        "demo_set = demo_df_time.tail(150)\n",
        "demo_df_time.drop(demo_set.index, inplace = True)\n",
        "demo_train_df = scale_encode_data(demo_df_time, train_data=True)\n",
        "test_df = scale_encode_data(demo_set, train_data=False)\n",
        "\n",
        "\n",
        "test_df_time = test_df[['Cluster_name','num_students', 'duration', 'Time_stamp_s']]\n",
        "test_df_num_students = test_df[['Event','Cluster_name','duration','num_students']]\n",
        "test_df_cluster_name = test_df[['Event', 'duration', 'num_students', 'Cluster_name']]\n",
        "\n",
        "\n",
        "test_df_time_X, test_df_time_y = create_time_series_dataset(test_df_time, 50, 1,'Time_stamp_s')\n",
        "test_df_num_students_X, test_df_num_students_y = create_time_series_dataset(test_df_num_students, 50, 1,'num_students')\n",
        "test_df_cluster_name_X, test_df_cluster_name_y = create_time_series_dataset(test_df_cluster_name, 50, 1,'Cluster_name')\n",
        "\n",
        "\n",
        "test_df_cluster_name_y = to_categorical(test_df_cluster_name_y, num_classes = 37)\n"
      ]
    },
    {
      "cell_type": "code",
      "execution_count": 7,
      "metadata": {},
      "outputs": [
        {
          "data": {
            "text/plain": [
              "((100, 50, 4), (100, 1))"
            ]
          },
          "execution_count": 7,
          "metadata": {},
          "output_type": "execute_result"
        }
      ],
      "source": [
        "test_df_time_X.shape, test_df_time_y.shape"
      ]
    },
    {
      "cell_type": "code",
      "execution_count": 8,
      "metadata": {
        "id": "4VlOEpAJcufP"
      },
      "outputs": [
        {
          "name": "stdout",
          "output_type": "stream",
          "text": [
            "4/4 [==============================] - 1s 8ms/step - loss: 2.1513e-06 - mean_absolute_error: 0.0014\n",
            "Mean Squared Error: 2.1513335468625883e-06\n",
            "\n",
            "Mean Absolute Error: 0.0014261710457503796\n",
            "4/4 [==============================] - 1s 6ms/step\n",
            "R2 Score: -0.13697735151277501\n"
          ]
        },
        {
          "data": {
            "text/plain": [
              "<matplotlib.legend.Legend at 0x28c90b4fb90>"
            ]
          },
          "execution_count": 8,
          "metadata": {},
          "output_type": "execute_result"
        },
        {
          "data": {
            "image/png": "[encoded data removed]",
            "text/plain": [
              "<Figure size 640x480 with 1 Axes>"
            ]
          },
          "metadata": {},
          "output_type": "display_data"
        }
      ],
      "source": [
        "import tensorflow as tf\n",
        "from sklearn.metrics import r2_score\n",
        "multi_lstm_model_time = tf.keras.Sequential([\n",
        "    # Shape [batch, time, features] => [batch, lstm_units].\n",
        "    # Adding more `lstm_units` just overfits more quickly.\n",
        "    tf.keras.layers.LSTM(50,input_shape = (50,4), return_sequences=False),\n",
        "    # Shape => [batch, out_steps*features].\n",
        "    # tf.keras.layers.Dense(100*1,\n",
        "    #                       kernel_initializer=tf.initializers.zeros()),\n",
        "    # # Shape => [batch, out_steps, features].\n",
        "    # tf.keras.layers.Reshape([100, 1])\n",
        "    tf.keras.layers.Dense(1)\n",
        "])\n",
        "\n",
        "\n",
        "multi_lstm_model_time.load_weights(\"./time_Series/lstm_model_multi_lstm_model_time.h5\")\n",
        "multi_lstm_model_time.compile(loss=tf.keras.losses.MeanSquaredError(),\n",
        "                optimizer=tf.keras.optimizers.Adam(),\n",
        "                metrics=[tf.keras.metrics.MeanAbsoluteError()])\n",
        "mse_time, mae_time = multi_lstm_model_time.evaluate(test_df_time_X, test_df_time_y)\n",
        "\n",
        "print(f\"Mean Squared Error: {mse_time}\\n\")\n",
        "print(f\"Mean Absolute Error: {mae_time}\")\n",
        "\n",
        "\n",
        "y_pred = multi_lstm_model_time.predict(test_df_time_X)\n",
        "\n",
        "y_pred_inv_scale = scaler_time_stamp.inverse_transform(y_pred)\n",
        "test_df_y_inv_scale = scaler_time_stamp.inverse_transform(test_df_time_y)\n",
        "\n",
        "r2_time = r2_score(test_df_y_inv_scale, y_pred_inv_scale)\n",
        "\n",
        "print(f\"R2 Score: {r2_time}\")\n",
        "\n",
        "import matplotlib.pyplot as plt\n",
        "\n",
        "plt.plot(test_df_y_inv_scale, label = \"Actual\")\n",
        "plt.plot(y_pred_inv_scale, label = \"Predictions\")\n",
        "# plt.gca().set_ylim(1, 1.5)\n",
        "plt.legend()\n",
        "\n"
      ]
    },
    {
      "cell_type": "code",
      "execution_count": 9,
      "metadata": {},
      "outputs": [
        {
          "name": "stdout",
          "output_type": "stream",
          "text": [
            "Actual Timestamp: DatetimeIndex(['2009-03-02 10:05:01'], dtype='datetime64[ns]', freq=None)\n",
            "Predicted Timestamp: DatetimeIndex(['2009-03-02 10:03:44'], dtype='datetime64[ns]', freq=None)\n"
          ]
        }
      ],
      "source": [
        "print(f\"Actual Timestamp: {pd.to_datetime(test_df_y_inv_scale[0], unit = 's')}\")\n",
        "print(f\"Predicted Timestamp: {pd.to_datetime(y_pred_inv_scale[0], unit = 's')}\")\n"
      ]
    },
    {
      "cell_type": "code",
      "execution_count": 10,
      "metadata": {
        "id": "FOrcN35acuJ2"
      },
      "outputs": [
        {
          "name": "stdout",
          "output_type": "stream",
          "text": [
            "4/4 [==============================] - 1s 7ms/step - loss: 3.0289e-05 - mean_absolute_error: 0.0050\n",
            "Mean Squared Error: 3.0288962079794146e-05\n",
            "\n",
            "Mean Absolute Error: 0.005046750418841839\n",
            "4/4 [==============================] - 0s 7ms/step\n",
            "R2 Score: 0.9151434444692292\n"
          ]
        },
        {
          "data": {
            "text/plain": [
              "<matplotlib.legend.Legend at 0x28c8c776dd0>"
            ]
          },
          "execution_count": 10,
          "metadata": {},
          "output_type": "execute_result"
        },
        {
          "data": {
            "image/png": "[encoded data removed]",
            "text/plain": [
              "<Figure size 640x480 with 1 Axes>"
            ]
          },
          "metadata": {},
          "output_type": "display_data"
        }
      ],
      "source": [
        "multi_lstm_model_num_students = tf.keras.Sequential([\n",
        "    # Shape [batch, time, features] => [batch, lstm_units].\n",
        "    # Adding more `lstm_units` just overfits more quickly.\n",
        "    tf.keras.layers.LSTM(50, input_shape = (50, 4), return_sequences=False),\n",
        "    # Shape => [batch, out_steps*features].\n",
        "    # tf.keras.layers.Dense(100*1,\n",
        "    #                       kernel_initializer=tf.initializers.zeros()),\n",
        "    # # Shape => [batch, out_steps, features].\n",
        "    # tf.keras.layers.Reshape([100, 1])\n",
        "    tf.keras.layers.Dense(1)\n",
        "])\n",
        "\n",
        "multi_lstm_model_num_students.load_weights(\"./time_Series/lstm_model_multi_lstm_model_num_students.h5\")\n",
        "multi_lstm_model_num_students.compile(loss=tf.keras.losses.MeanSquaredError(),\n",
        "                optimizer=tf.keras.optimizers.Adam(),\n",
        "                metrics=[tf.keras.metrics.MeanAbsoluteError()])\n",
        "\n",
        "mse_time, mae_time = multi_lstm_model_num_students.evaluate(test_df_num_students_X, test_df_num_students_y)\n",
        "\n",
        "print(f\"Mean Squared Error: {mse_time}\\n\")\n",
        "print(f\"Mean Absolute Error: {mae_time}\")\n",
        "\n",
        "\n",
        "y_pred = multi_lstm_model_num_students.predict(test_df_num_students_X)\n",
        "\n",
        "r2_time = r2_score(test_df_num_students_y, y_pred)\n",
        "\n",
        "print(f\"R2 Score: {r2_time}\")\n",
        "\n",
        "\n",
        "plt.plot(test_df_num_students_y, label = \"Actual\")\n",
        "plt.plot(y_pred, label = \"Predictions\")\n",
        "# plt.gca().set_ylim(1, 1.5)\n",
        "plt.legend()"
      ]
    },
    {
      "cell_type": "code",
      "execution_count": 11,
      "metadata": {
        "id": "bEkfXG1jcUbb"
      },
      "outputs": [
        {
          "name": "stdout",
          "output_type": "stream",
          "text": [
            "4/4 [==============================] - 1s 7ms/step - loss: 4.1045 - accuracy: 0.0100\n",
            "4/4 [==============================] - 1s 5ms/step\n",
            "              precision    recall  f1-score   support\n",
            "\n",
            "           2       0.00      0.00      0.00         9\n",
            "           4       0.00      0.00      0.00         0\n",
            "           5       0.00      0.00      0.00         5\n",
            "           6       0.00      0.00      0.00         2\n",
            "           7       0.00      0.00      0.00         4\n",
            "           8       0.00      0.00      0.00         4\n",
            "           9       0.00      0.00      0.00         1\n",
            "          10       0.00      0.00      0.00         6\n",
            "          12       0.00      0.00      0.00         1\n",
            "          13       0.00      0.00      0.00         1\n",
            "          14       0.05      0.50      0.09         2\n",
            "          16       0.00      0.00      0.00         7\n",
            "          18       0.00      0.00      0.00         1\n",
            "          19       0.00      0.00      0.00         3\n",
            "          20       0.00      0.00      0.00         3\n",
            "          22       0.00      0.00      0.00         1\n",
            "          24       0.00      0.00      0.00         1\n",
            "          25       0.00      0.00      0.00         4\n",
            "          26       0.00      0.00      0.00         0\n",
            "          27       0.00      0.00      0.00         9\n",
            "          28       0.00      0.00      0.00         8\n",
            "          29       0.00      0.00      0.00        17\n",
            "          30       0.00      0.00      0.00         2\n",
            "          31       0.00      0.00      0.00         2\n",
            "          32       0.00      0.00      0.00         3\n",
            "          33       0.00      0.00      0.00         4\n",
            "\n",
            "    accuracy                           0.01       100\n",
            "   macro avg       0.00      0.02      0.00       100\n",
            "weighted avg       0.00      0.01      0.00       100\n",
            "\n"
          ]
        },
        {
          "name": "stderr",
          "output_type": "stream",
          "text": [
            "c:\\Users\\hrith\\AppData\\Local\\Programs\\Python\\Python311\\Lib\\site-packages\\sklearn\\metrics\\_classification.py:1471: UndefinedMetricWarning: Precision and F-score are ill-defined and being set to 0.0 in labels with no predicted samples. Use `zero_division` parameter to control this behavior.\n",
            "  _warn_prf(average, modifier, msg_start, len(result))\n",
            "c:\\Users\\hrith\\AppData\\Local\\Programs\\Python\\Python311\\Lib\\site-packages\\sklearn\\metrics\\_classification.py:1471: UndefinedMetricWarning: Recall and F-score are ill-defined and being set to 0.0 in labels with no true samples. Use `zero_division` parameter to control this behavior.\n",
            "  _warn_prf(average, modifier, msg_start, len(result))\n",
            "c:\\Users\\hrith\\AppData\\Local\\Programs\\Python\\Python311\\Lib\\site-packages\\sklearn\\metrics\\_classification.py:1471: UndefinedMetricWarning: Precision and F-score are ill-defined and being set to 0.0 in labels with no predicted samples. Use `zero_division` parameter to control this behavior.\n",
            "  _warn_prf(average, modifier, msg_start, len(result))\n",
            "c:\\Users\\hrith\\AppData\\Local\\Programs\\Python\\Python311\\Lib\\site-packages\\sklearn\\metrics\\_classification.py:1471: UndefinedMetricWarning: Recall and F-score are ill-defined and being set to 0.0 in labels with no true samples. Use `zero_division` parameter to control this behavior.\n",
            "  _warn_prf(average, modifier, msg_start, len(result))\n",
            "c:\\Users\\hrith\\AppData\\Local\\Programs\\Python\\Python311\\Lib\\site-packages\\sklearn\\metrics\\_classification.py:1471: UndefinedMetricWarning: Precision and F-score are ill-defined and being set to 0.0 in labels with no predicted samples. Use `zero_division` parameter to control this behavior.\n",
            "  _warn_prf(average, modifier, msg_start, len(result))\n",
            "c:\\Users\\hrith\\AppData\\Local\\Programs\\Python\\Python311\\Lib\\site-packages\\sklearn\\metrics\\_classification.py:1471: UndefinedMetricWarning: Recall and F-score are ill-defined and being set to 0.0 in labels with no true samples. Use `zero_division` parameter to control this behavior.\n",
            "  _warn_prf(average, modifier, msg_start, len(result))\n"
          ]
        }
      ],
      "source": [
        "from sklearn.metrics import confusion_matrix, classification_report\n",
        "num_classes = 37\n",
        "multi_lstm_model_cluster_name = tf.keras.Sequential([\n",
        "    # Shape [batch, time, features] => [batch, lstm_units].\n",
        "    # Adding more `lstm_units` just overfits more quickly.\n",
        "    tf.keras.layers.LSTM(50, input_shape = (50,4), return_sequences=False),\n",
        "    # Shape => [batch, out_steps*features].\n",
        "    # tf.keras.layers.Dense(100*1,\n",
        "    #                       kernel_initializer=tf.initializers.zeros()),\n",
        "    # # Shape => [batch, out_steps, features].\n",
        "    # tf.keras.layers.Reshape([100, 1])\n",
        "    tf.keras.layers.Dense(num_classes, activation = 'softmax')\n",
        "])\n",
        "\n",
        "# model_name = \"lstm_model_cluster_name\"\n",
        "# multi_lstm_model_cluster_name.save_weights(f'./time_Series/lstm_model_{model_name}.h5')\n",
        "multi_lstm_model_cluster_name.load_weights(\"./time_Series/lstm_model_lstm_model_cluster_name.h5\")\n",
        "\n",
        "multi_lstm_model_cluster_name.compile(loss='categorical_crossentropy',\n",
        "                optimizer=tf.keras.optimizers.Adam(),\n",
        "                metrics=['accuracy'])\n",
        "\n",
        "multi_lstm_model_cluster_name.evaluate(test_df_cluster_name_X, test_df_cluster_name_y)\n",
        "\n",
        "\n",
        "y_pred = multi_lstm_model_cluster_name.predict(test_df_cluster_name_X)\n",
        "\n",
        "y_pred_class = y_pred.argmax(axis = 1)\n",
        "\n",
        "cm = classification_report(np.argmax(test_df_cluster_name_y, axis=1), np.argmax(y_pred,axis=1))\n",
        "\n",
        "# plt.figure(figsize=(8, 6))\n",
        "# sns.heatmap(cm, annot=True, fmt='d', cmap='Blues')\n",
        "# plt.xlabel('Predicted Labels')\n",
        "# plt.ylabel('True Labels')\n",
        "# plt.title('Confusion Matrix')\n",
        "# plt.show()\n",
        "print(cm)"
      ]
    }
  ],
  "metadata": {
    "accelerator": "GPU",
    "colab": {
      "gpuType": "A100",
      "machine_shape": "hm",
      "provenance": []
    },
    "kernelspec": {
      "display_name": "Python 3",
      "name": "python3"
    },
    "language_info": {
      "codemirror_mode": {
        "name": "ipython",
        "version": 3
      },
      "file_extension": ".py",
      "mimetype": "text/x-python",
      "name": "python",
      "nbconvert_exporter": "python",
      "pygments_lexer": "ipython3",
      "version": "3.11.4"
    }
  },
  "nbformat": 4,
  "nbformat_minor": 0
}
